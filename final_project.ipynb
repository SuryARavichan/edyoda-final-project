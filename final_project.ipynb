{
  "nbformat": 4,
  "nbformat_minor": 0,
  "metadata": {
    "colab": {
      "provenance": [],
      "authorship_tag": "ABX9TyM5snMKfn3EED+pMG/3dkYo",
      "include_colab_link": true
    },
    "kernelspec": {
      "name": "python3",
      "display_name": "Python 3"
    },
    "language_info": {
      "name": "python"
    }
  },
  "cells": [
    {
      "cell_type": "markdown",
      "metadata": {
        "id": "view-in-github",
        "colab_type": "text"
      },
      "source": [
        "<a href=\"https://colab.research.google.com/github/SuryARavichan/edyoda-final-project/blob/main/final_project.ipynb\" target=\"_parent\"><img src=\"https://colab.research.google.com/assets/colab-badge.svg\" alt=\"Open In Colab\"/></a>"
      ]
    },
    {
      "cell_type": "markdown",
      "source": [
        "👉 1. Add new food items. Food Item will have the following details:\n",
        "        🔴 FoodID //It should be generated automatically by the application.\n",
        "        🔴 Name\n",
        "        🔴 Quantity. For eg, 100ml, 250gm, 4pieces etc\n",
        "        🔴 Price\n",
        "        🔴 Discount\n",
        "        🔴 Stock. Amount left in stock in the restaurant."
      ],
      "metadata": {
        "id": "UCuOBgC3bQk4"
      }
    },
    {
      "cell_type": "code",
      "source": [
        "class Food:\n",
        "    food_id = 1001  # static variable to generate FoodID\n",
        "\n",
        "    def __init__(self, name, quantity, price, discount, stock):\n",
        "        self.id = Food.food_id\n",
        "        self.name = name\n",
        "        self.quantity = quantity\n",
        "        self.price = price\n",
        "        self.discount = discount\n",
        "        self.stock = stock\n",
        "        Food.food_id += 1\n",
        "\n",
        "# Create instances of the Food class to represent each food item\n",
        "food1 = Food(\"Pizza\", \"4 pieces\", 200, 10, 10)\n",
        "food2 = Food(\"Burger\", \"1 piece\", 150, 5, 20)\n",
        "\n",
        "# Access the details of a food item\n",
        "print(food1.id)  # 1001\n",
        "print(food1.name)  # Pizza\n",
        "print(food1.quantity)  # 4 pieces\n",
        "print(food1.price)  # 200\n",
        "print(food1.discount)  # 10\n",
        "print(food1.stock)  # 10\n"
      ],
      "metadata": {
        "colab": {
          "base_uri": "https://localhost:8080/"
        },
        "id": "MZgLpmdnbRAL",
        "outputId": "8ab6bf73-b376-4900-b351-a69c7ede2b9c"
      },
      "execution_count": 1,
      "outputs": [
        {
          "output_type": "stream",
          "name": "stdout",
          "text": [
            "1001\n",
            "Pizza\n",
            "4 pieces\n",
            "200\n",
            "10\n",
            "10\n"
          ]
        }
      ]
    },
    {
      "cell_type": "markdown",
      "source": [
        "👉 2. Edit food items using FoodID."
      ],
      "metadata": {
        "id": "Uvb9ka3Ab8Mi"
      }
    },
    {
      "cell_type": "code",
      "source": [
        "class Food:\n",
        "    food_id = 1001  # static variable to generate FoodID\n",
        "    food_items = []  # list to store all food items\n",
        "\n",
        "    def __init__(self, name, quantity, price, discount, stock):\n",
        "        self.id = Food.food_id\n",
        "        self.name = name\n",
        "        self.quantity = quantity\n",
        "        self.price = price\n",
        "        self.discount = discount\n",
        "        self.stock = stock\n",
        "        Food.food_items.append(self)  # add the food item to the list\n",
        "        Food.food_id += 1\n",
        "\n",
        "    @staticmethod\n",
        "    def edit_food(food_id, name=None, quantity=None, price=None, discount=None, stock=None):\n",
        "        for food_item in Food.food_items:\n",
        "            if food_item.id == food_id:\n",
        "                if name:\n",
        "                    food_item.name = name\n",
        "                if quantity:\n",
        "                    food_item.quantity = quantity\n",
        "                if price:\n",
        "                    food_item.price = price\n",
        "                if discount:\n",
        "                    food_item.discount = discount\n",
        "                if stock:\n",
        "                    food_item.stock = stock\n",
        "\n",
        "# Create instances of the Food class to represent each food item\n",
        "food1 = Food(\"Pizza\", \"4 pieces\", 200, 10, 10)\n",
        "food2 = Food(\"Burger\", \"1 piece\", 150, 5, 20)\n",
        "\n",
        "# Edit a food item\n",
        "Food.edit_food(1001, name=\"Veg Pizza\", quantity=\"4 slices\", price=250)\n",
        "\n",
        "# Access the updated details of a food item\n",
        "print(food1.id)  # 1001\n",
        "print(food1.name)  # Veg Pizza\n",
        "print(food1.quantity)  # 4 slices\n",
        "print(food1.price)  # 250\n",
        "print(food1.discount)  # 10\n",
        "print(food1.stock)  # 10\n"
      ],
      "metadata": {
        "colab": {
          "base_uri": "https://localhost:8080/"
        },
        "id": "eV7bbGsvb42t",
        "outputId": "c6c8ba6b-4c46-4fc5-b533-522b72cb684d"
      },
      "execution_count": 2,
      "outputs": [
        {
          "output_type": "stream",
          "name": "stdout",
          "text": [
            "1001\n",
            "Veg Pizza\n",
            "4 slices\n",
            "250\n",
            "10\n",
            "10\n"
          ]
        }
      ]
    },
    {
      "cell_type": "markdown",
      "source": [
        "👉 3. View the list of all food items.\n"
      ],
      "metadata": {
        "id": "UBMb_nM6cW4d"
      }
    },
    {
      "cell_type": "code",
      "source": [
        "class Food:\n",
        "    food_id = 1001  # static variable to generate FoodID\n",
        "    food_items = []  # list to store all food items\n",
        "\n",
        "    def __init__(self, name, quantity, price, discount, stock):\n",
        "        self.id = Food.food_id\n",
        "        self.name = name\n",
        "        self.quantity = quantity\n",
        "        self.price = price\n",
        "        self.discount = discount\n",
        "        self.stock = stock\n",
        "        Food.food_items.append(self)  # add the food item to the list\n",
        "        Food.food_id += 1\n",
        "\n",
        "    @staticmethod\n",
        "    def view_food_items():\n",
        "        return Food.food_items\n",
        "\n",
        "# Create instances of the Food class to represent each food item\n",
        "food1 = Food(\"Pizza\", \"4 pieces\", 200, 10, 10)\n",
        "food2 = Food(\"Burger\", \"1 piece\", 150, 5, 20)\n",
        "\n",
        "\n"
      ],
      "metadata": {
        "id": "wdmABSUXcUiQ"
      },
      "execution_count": 6,
      "outputs": []
    },
    {
      "cell_type": "markdown",
      "source": [
        "👉 1. Register on the application. Following to be entered for registration:\n",
        "        🔴 Full Name\n",
        "        🔴 Phone Number\n",
        "        🔴 Email\n",
        "        🔴 Address\n",
        "        🔴 Password"
      ],
      "metadata": {
        "id": "XSkKmuQBc8LD"
      }
    },
    {
      "cell_type": "code",
      "source": [
        "class User:\n",
        "    user_id = 1001  # static variable to generate UserID\n",
        "    users = []  # list to store all users\n",
        "\n",
        "    def __init__(self, full_name, phone, email, address, password):\n",
        "        self.id = User.user_id\n",
        "        self.full_name = full_name\n",
        "        self.phone = phone\n",
        "        self.email = email\n",
        "        self.address = address\n",
        "        self.password = password\n",
        "        User.users.append(self)  # add the user to the list of users\n",
        "        User.user_id += 1\n",
        "\n",
        "# Create an instance of the User class to represent each user\n",
        "user1 = User(\"John Doe\", \"9876543210\", \"john@example.com\", \"1 Main St, NY\", \"password123\")\n",
        "user2 = User(\"Jane Doe\", \"1234567890\", \"jane@example.com\", \"2 Main St, NY\", \"password456\")\n",
        "\n",
        "# Access the details of a user\n",
        "print(user1.id)  # 1001\n",
        "print(user1.full_name)  # John Doe\n",
        "print(user1.phone)  # 9876543210\n",
        "print(user1.email)  # john@example.com\n",
        "print(user1.address)  # 1 Main St, NY\n",
        "print(user1.password)  # password123\n"
      ],
      "metadata": {
        "colab": {
          "base_uri": "https://localhost:8080/"
        },
        "id": "YxJxIBIucnSU",
        "outputId": "5a3e2ec0-8b64-4399-8bb9-10e71793ba71"
      },
      "execution_count": 7,
      "outputs": [
        {
          "output_type": "stream",
          "name": "stdout",
          "text": [
            "1001\n",
            "John Doe\n",
            "9876543210\n",
            "john@example.com\n",
            "1 Main St, NY\n",
            "password123\n"
          ]
        }
      ]
    },
    {
      "cell_type": "markdown",
      "source": [
        "👉 2. Log in to the application"
      ],
      "metadata": {
        "id": "-JFMU2l_dXJk"
      }
    },
    {
      "cell_type": "code",
      "source": [
        "\n",
        "class User:\n",
        "    user_id = 1001  # static variable to generate UserID\n",
        "    users = []  # list to store all users\n",
        "\n",
        "    def __init__(self, full_name, phone, email, address, password):\n",
        "        self.id = User.user_id\n",
        "        self.full_name = full_name\n",
        "        self.phone = phone\n",
        "\n"
      ],
      "metadata": {
        "id": "C8MXMPKxdQ2s"
      },
      "execution_count": 8,
      "outputs": []
    },
    {
      "cell_type": "markdown",
      "source": [
        "👉 3. The user will see 3 options:\n",
        "        🔴 Place New Order\n",
        "        🔴 Order History\n",
        "        🔴 Update Profile"
      ],
      "metadata": {
        "id": "9oCSTMCldlSm"
      }
    },
    {
      "cell_type": "code",
      "source": [
        "class User:\n",
        "    user_id = 1001  # static variable to generate UserID\n",
        "    users = []  # list to store all users\n",
        "\n",
        "    def __init__(self, full_name, phone, email, address, password):\n",
        "        self.id = User.user_id\n",
        "        self.full_name = full_name\n",
        "        self.phone = phone\n",
        "        self.email = email\n",
        "        self.address = address\n",
        "        self.password = password\n",
        "        self.orders = []  # list to store the user's orders\n",
        "        User.users.append(self)  # add the user to the list of users\n",
        "        User.user_id += 1\n",
        "\n",
        "    def place_new_order(self, food_item, quantity):\n",
        "        \"\"\"Place a new order for a food item\"\"\"\n",
        "        order = {\"food_item\": food_item, \"quantity\": quantity}\n",
        "        self.orders.append(order)\n",
        "        print(f\"Order placed for {food_item} ({quantity})\")\n",
        "\n",
        "    def view_order_history(self):\n",
        "        \"\"\"View the history of the user's orders\"\"\"\n",
        "        print(\"Order History:\")\n",
        "        for order in self.orders:\n",
        "            print(f\"Food Item: {order['food_item']} Quantity: {order['quantity']}\")\n",
        "\n",
        "    def update_profile(self, full_name=None, phone=None, email=None, address=None, password=None):\n",
        "        \"\"\"Update the user's profile information\"\"\"\n",
        "        if full_name:\n",
        "            self.full_name = full_name\n",
        "        if phone:\n",
        "            self.phone = phone\n",
        "        if email:\n",
        "            self.email = email\n",
        "        if address:\n",
        "            self.address = address\n",
        "        if password:\n",
        "            self.password = password\n",
        "        print(\"Profile updated successfully\")\n",
        "\n",
        "# Create an instance of the User class to represent each user\n",
        "user1 = User(\"John Doe\", \"9876543210\", \"john@example.com\", \"1 Main St, NY\", \"password123\")\n",
        "\n",
        "# Log in to the application\n",
        "logged_in_user = user1\n",
        "\n",
        "# Show the options for the logged-in user\n",
        "print(\"Select an option:\")\n",
        "print(\"1. Place New Order\")\n",
        "print(\"2. Order History\")\n",
        "print(\"3. Update Profile\")\n",
        "\n",
        "# Handle the user's selection\n",
        "option = int(input(\"Enter option number: \"))\n",
        "if option == 1:\n",
        "    food_item = input(\"Enter food item: \")\n",
        "    quantity = int(input(\"Enter quantity: \"))\n",
        "    logged_in_user.place_new_order(food_item, quantity)\n",
        "elif option == 2:\n",
        "    logged_in_user.view_order_history()\n",
        "elif option == 3:\n",
        "    full_name = input(\"Enter full name (Press enter to skip): \")\n",
        "    phone = input(\"Enter phone (Press enter to skip): \")\n",
        "    email = input(\"Enter email (Press enter to skip): \")\n",
        "    address = input(\"Enter address (Press enter to skip): \")\n",
        "    password = input(\"Enter password (Press enter to skip): \")\n",
        "    logged_in_user.update_profile(full_name, phone, email, address, password)\n",
        "else:\n",
        "    print(\"Invalid\")\n"
      ],
      "metadata": {
        "colab": {
          "base_uri": "https://localhost:8080/"
        },
        "id": "jVGTTioUdiao",
        "outputId": "14aff5e1-982f-4250-a3c4-47dd636747ba"
      },
      "execution_count": 9,
      "outputs": [
        {
          "output_type": "stream",
          "name": "stdout",
          "text": [
            "Select an option:\n",
            "1. Place New Order\n",
            "2. Order History\n",
            "3. Update Profile\n",
            "Enter option number: 1\n",
            "Enter food item: Pizza\n",
            "Enter quantity: 4\n",
            "Order placed for Pizza (4)\n"
          ]
        }
      ]
    },
    {
      "cell_type": "markdown",
      "source": [
        "\n",
        "👉 4. Place New Order: The user can place a new order at the restaurant.\n",
        "        🔵 Show list of food. The list item should as follows:\n",
        "            🔴 Tandoori Chicken (4 pieces) [INR 240]\n",
        "            🔴 Vegan Burger (1 Piece) [INR 320]\n",
        "            🔴 Truffle Cake (500gm) [INR 900]"
      ],
      "metadata": {
        "id": "gWSpu_yjeUYs"
      }
    },
    {
      "cell_type": "code",
      "source": [
        "class Food:\n",
        "    def __init__(self, food_id, name, quantity, price, discount, stock):\n",
        "        self.food_id = food_id\n",
        "        self.name = name\n",
        "        self.quantity = quantity\n",
        "        self.price = price\n",
        "        self.discount = discount\n",
        "        self.stock = stock\n",
        "\n",
        "    def __str__(self):\n",
        "        return \"{} ({}) [INR {}]\".format(self.name, self.quantity, self.price)\n",
        "\n",
        "class Order:\n",
        "    def __init__(self, food, quantity):\n",
        "        self.food = food\n",
        "        self.quantity = quantity\n",
        "\n",
        "    def __str__(self):\n",
        "        return \"{} x {}\".format(self.food.name, self.quantity)\n",
        "\n",
        "class User:\n",
        "    def __init__(self, name, phone, email, address, password):\n",
        "        self.name = name\n",
        "        self.phone = phone\n",
        "        self.email = email\n",
        "        self.address = address\n",
        "        self.password = password\n",
        "\n",
        "class Restaurant:\n",
        "    def __init__(self):\n",
        "        self.foods = []\n",
        "        self.orders = []\n",
        "        self.users = []\n",
        "\n",
        "    def add_food(self, food):\n",
        "        self.foods.append(food)\n",
        "\n",
        "    def view_foods(self):\n",
        "        for food in self.foods:\n",
        "            print(food)\n",
        "\n",
        "    def place_order(self, user, order):\n",
        "        self.orders.append((user, order))\n",
        "        self.foods[order.food].stock -= order.quantity\n",
        "\n",
        "# Example usage\n",
        "restaurant = Restaurant()\n",
        "food1 = Food(1, \"Tandoori Chicken\", \"4 pieces\", 240, 0, 10)\n",
        "food2 = Food(2, \"Vegan Burger\", \"1 Piece\", 320, 0, 5)\n",
        "food3 = Food(3, \"Truffle Cake\", \"500gm\", 900, 0, 3)\n",
        "restaurant.add_food(food1)\n",
        "restaurant.add_food(food2)\n",
        "restaurant.add_food(food3)\n",
        "restaurant.view_foods()\n",
        "# Output:\n",
        "# Tandoori Chicken (4 pieces) [INR 240]\n",
        "# Vegan Burger (1 Piece) [INR 320]\n",
        "# Truffle Cake (500gm) [INR 900]\n",
        "\n",
        "user = User(\"John Doe\", \"+91 1234567890\", \"johndoe@example.com\", \"123 Main St\", \"password123\")\n",
        "order = Order(0, 2)\n",
        "restaurant.place_order(user, order)\n"
      ],
      "metadata": {
        "colab": {
          "base_uri": "https://localhost:8080/"
        },
        "id": "zK0PSo_2eJXd",
        "outputId": "272d997a-bf79-4f23-9551-40061a4b3b85"
      },
      "execution_count": 10,
      "outputs": [
        {
          "output_type": "stream",
          "name": "stdout",
          "text": [
            "Tandoori Chicken (4 pieces) [INR 240]\n",
            "Vegan Burger (1 Piece) [INR 320]\n",
            "Truffle Cake (500gm) [INR 900]\n"
          ]
        }
      ]
    },
    {
      "cell_type": "markdown",
      "source": [
        "5. Users should be able to select food by entering an array of numbers. For example, if the user wants to order Vegan Burger and Truffle Cake they should enter [2, 3]"
      ],
      "metadata": {
        "id": "6_jj_Qzae6cf"
      }
    },
    {
      "cell_type": "code",
      "source": [
        "class Order:\n",
        "    def __init__(self, food_list):\n",
        "        self.food_list = food_list\n",
        "\n",
        "    def place_order(self, items):\n",
        "        order = []\n",
        "        for item in items:\n",
        "            order.append(self.food_list[item - 1])\n",
        "        return order\n",
        "\n",
        "food_list = [\"Tandoori Chicken (4 pieces) [INR 240]\", \"Vegan Burger (1 Piece) [INR 320]\", \"Truffle Cake (500gm) [INR 900]\"]\n",
        "order = Order(food_list)\n",
        "items = [2, 3]\n",
        "print(order.place_order(items))\n"
      ],
      "metadata": {
        "colab": {
          "base_uri": "https://localhost:8080/"
        },
        "id": "8-M3-Uoye18z",
        "outputId": "dd4a4409-653e-431c-b4f9-70d69dacdf71"
      },
      "execution_count": 11,
      "outputs": [
        {
          "output_type": "stream",
          "name": "stdout",
          "text": [
            "['Vegan Burger (1 Piece) [INR 320]', 'Truffle Cake (500gm) [INR 900]']\n"
          ]
        }
      ]
    },
    {
      "cell_type": "markdown",
      "source": [
        "👉 6. Once the items are selected user should see the list of all the items selected. The user will also get an option to place an order."
      ],
      "metadata": {
        "id": "C0mzapn8fIIQ"
      }
    },
    {
      "cell_type": "code",
      "source": [
        "class Order:\n",
        "    def __init__(self, food_list):\n",
        "        self.food_list = food_list\n",
        "\n",
        "    def place_order(self, items):\n",
        "        order = []\n",
        "        for item in items:\n",
        "            order.append(self.food_list[item - 1])\n",
        "        return order\n",
        "\n",
        "    def view_order(self, order):\n",
        "        print(\"Selected items:\")\n",
        "        for item in order:\n",
        "            print(item)\n",
        "        confirmation = input(\"Do you want to place this order? (y/n)\")\n",
        "        if confirmation == \"y\":\n",
        "            print(\"Order placed successfully!\")\n",
        "        else:\n",
        "            print(\"Order cancelled.\")\n",
        "\n",
        "food_list = [\"Tandoori Chicken (4 pieces) [INR 240]\", \"Vegan Burger (1 Piece) [INR 320]\", \"Truffle Cake (500gm) [INR 900]\"]\n",
        "order = Order(food_list)\n",
        "items = [2, 3]\n",
        "selected_items = order.place_order(items)\n",
        "order.view_order(selected_items)\n"
      ],
      "metadata": {
        "colab": {
          "base_uri": "https://localhost:8080/"
        },
        "id": "nqng3hFdfFBH",
        "outputId": "87be3d87-be29-4c6f-e6c9-26e5ce442aa3"
      },
      "execution_count": 12,
      "outputs": [
        {
          "output_type": "stream",
          "name": "stdout",
          "text": [
            "Selected items:\n",
            "Vegan Burger (1 Piece) [INR 320]\n",
            "Truffle Cake (500gm) [INR 900]\n",
            "Do you want to place this order? (y/n)y\n",
            "Order placed successfully!\n"
          ]
        }
      ]
    },
    {
      "cell_type": "markdown",
      "source": [
        "👉 7. Order History should show a list of all the previous orders"
      ],
      "metadata": {
        "id": "Zehrc7x-fbZQ"
      }
    },
    {
      "cell_type": "code",
      "source": [
        "class User:\n",
        "    def __init__(self):\n",
        "        self.order_history = []\n",
        "\n",
        "    def place_order(self, order):\n",
        "        self.order_history.append(order)\n",
        "        print(\"Order placed successfully!\")\n",
        "\n",
        "    def view_order_history(self):\n",
        "        if len(self.order_history) == 0:\n",
        "            print(\"No previous orders found.\")\n",
        "        else:\n",
        "            print(\"Order history:\")\n",
        "            for order in self.order_history:\n",
        "                print(order)\n",
        "\n",
        "user = User()\n",
        "order = [\"Vegan Burger\", \"Truffle Cake\"]\n",
        "user.place_order(order)\n",
        "user.view_order_history()\n"
      ],
      "metadata": {
        "colab": {
          "base_uri": "https://localhost:8080/"
        },
        "id": "g2O4lIk8fWw_",
        "outputId": "fc08688e-62f0-4b07-b90f-a4f5f5657f86"
      },
      "execution_count": 13,
      "outputs": [
        {
          "output_type": "stream",
          "name": "stdout",
          "text": [
            "Order placed successfully!\n",
            "Order history:\n",
            "['Vegan Burger', 'Truffle Cake']\n"
          ]
        }
      ]
    },
    {
      "cell_type": "markdown",
      "source": [
        "👉 8. Update Profile: the user should be able to update their profile."
      ],
      "metadata": {
        "id": "PDYdSWFUfrbh"
      }
    },
    {
      "cell_type": "code",
      "source": [
        "class User:\n",
        "    def __init__(self, full_name, phone_number, email, address, password):\n",
        "        self.full_name = full_name\n",
        "        self.phone_number = phone_number\n",
        "        self.email = email\n",
        "        self.address = address\n",
        "        self.password = password\n",
        "\n",
        "    def update_profile(self, full_name=None, phone_number=None, email=None, address=None, password=None):\n",
        "        if full_name:\n",
        "            self.full_name = full_name\n",
        "        if phone_number:\n",
        "            self.phone_number = phone_number\n",
        "        if email:\n",
        "            self.email = email\n",
        "        if address:\n",
        "            self.address = address\n",
        "        if password:\n",
        "            self.password = password\n",
        "        print(\"Profile updated successfully!\")\n",
        "\n",
        "    def view_profile(self):\n",
        "        print(\"Full Name:\", self.full_name)\n",
        "        print(\"Phone Number:\", self.phone_number)\n",
        "        print(\"Email:\", self.email)\n",
        "        print(\"Address:\", self.address)\n",
        "\n",
        "user = User(\"John Doe\", \"1234567890\", \"johndoe@example.com\", \"123 Main St.\", \"secret_password\")\n",
        "user.view_profile()\n",
        "user.update_profile(full_name=\"Jane Doe\", password=\"new_secret_password\")\n",
        "user.view_profile()\n"
      ],
      "metadata": {
        "colab": {
          "base_uri": "https://localhost:8080/"
        },
        "id": "RmKdBPt-fnD0",
        "outputId": "07915ded-dd2b-4c43-911f-64f9ae6795df"
      },
      "execution_count": 14,
      "outputs": [
        {
          "output_type": "stream",
          "name": "stdout",
          "text": [
            "Full Name: John Doe\n",
            "Phone Number: 1234567890\n",
            "Email: johndoe@example.com\n",
            "Address: 123 Main St.\n",
            "Profile updated successfully!\n",
            "Full Name: Jane Doe\n",
            "Phone Number: 1234567890\n",
            "Email: johndoe@example.com\n",
            "Address: 123 Main St.\n"
          ]
        }
      ]
    },
    {
      "cell_type": "code",
      "source": [],
      "metadata": {
        "id": "Y0zMhY8Xf9B8"
      },
      "execution_count": null,
      "outputs": []
    }
  ]
}