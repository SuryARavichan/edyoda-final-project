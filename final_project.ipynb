{
  "nbformat": 4,
  "nbformat_minor": 0,
  "metadata": {
    "colab": {
      "provenance": [],
      "authorship_tag": "ABX9TyPlOZeIblPTjgyCfdDnjku8",
      "include_colab_link": true
    },
    "kernelspec": {
      "name": "python3",
      "display_name": "Python 3"
    },
    "language_info": {
      "name": "python"
    }
  },
  "cells": [
    {
      "cell_type": "markdown",
      "metadata": {
        "id": "view-in-github",
        "colab_type": "text"
      },
      "source": [
        "<a href=\"https://colab.research.google.com/github/SuryARavichan/edyoda-final-project/blob/main/final_project.ipynb\" target=\"_parent\"><img src=\"https://colab.research.google.com/assets/colab-badge.svg\" alt=\"Open In Colab\"/></a>"
      ]
    },
    {
      "cell_type": "markdown",
      "source": [
        "➡️ Admin will have the following functionalities: ⬅️\n",
        "\n",
        "👉 1. Add new food items. Food Item will have the following details:\n",
        "        🔴 FoodID //It should be generated automatically by the application.\n",
        "        🔴 Name\n",
        "        🔴 Quantity. For eg, 100ml, 250gm, 4pieces etc\n",
        "        🔴 Price\n",
        "        🔴 Discount\n",
        "        🔴 Stock. Amount left in stock in the restaurant."
      ],
      "metadata": {
        "id": "tNbjbmG2ppt3"
      }
    },
    {
      "cell_type": "code",
      "source": [
        "class Food:\n",
        "    food_id = 1001  # static variable to generate FoodID\n",
        "\n",
        "    def __init__(self, name, quantity, price, discount, stock):\n",
        "        self.id = Food.food_id\n",
        "        self.name = name\n",
        "        self.quantity = quantity\n",
        "        self.price = price\n",
        "        self.discount = discount\n",
        "        self.stock = stock\n",
        "        Food.food_id += 1\n",
        "\n",
        "# Create instances of the Food class to represent each food item\n",
        "food1 = Food(\"Pizza\", \"4 pieces\", 200, 10, 10)\n",
        "food2 = Food(\"Burger\", \"1 piece\", 150, 5, 20)\n",
        "\n",
        "# Access the details of a food item\n",
        "print(food1.id)  # 1001\n",
        "print(food1.name)  # Pizza\n",
        "print(food1.quantity)  # 4 pieces\n",
        "print(food1.price)  # 200\n",
        "print(food1.discount)  # 10\n",
        "print(food1.stock)  # 10\n"
      ],
      "metadata": {
        "colab": {
          "base_uri": "https://localhost:8080/"
        },
        "id": "nNTVRutfptOi",
        "outputId": "7324fdfd-f6d0-4b47-db0d-c1b80f35c3b2"
      },
      "execution_count": 11,
      "outputs": [
        {
          "output_type": "stream",
          "name": "stdout",
          "text": [
            "1001\n",
            "Pizza\n",
            "4 pieces\n",
            "200\n",
            "10\n",
            "10\n"
          ]
        }
      ]
    },
    {
      "cell_type": "markdown",
      "source": [
        "👉 2. Edit food items using FoodID."
      ],
      "metadata": {
        "id": "70o83ygkqUWI"
      }
    },
    {
      "cell_type": "code",
      "source": [
        "class Food:\n",
        "    food_id = 1001  # static variable to generate FoodID\n",
        "    food_items = []  # list to store all food items\n",
        "\n",
        "    def __init__(self, name, quantity, price, discount, stock):\n",
        "        self.id = Food.food_id\n",
        "        self.name = name\n",
        "        self.quantity = quantity\n",
        "        self.price = price\n",
        "        self.discount = discount\n",
        "        self.stock = stock\n",
        "        Food.food_items.append(self)  # add the food item to the list\n",
        "        Food.food_id += 1\n",
        "\n",
        "    @staticmethod\n",
        "    def edit_food(food_id, name=None, quantity=None, price=None, discount=None, stock=None):\n",
        "        for food_item in Food.food_items:\n",
        "            if food_item.id == food_id:\n",
        "                if name:\n",
        "                    food_item.name = name\n",
        "                if quantity:\n",
        "                    food_item.quantity = quantity\n",
        "                if price:\n",
        "                    food_item.price = price\n",
        "                if discount:\n",
        "                    food_item.discount = discount\n",
        "                if stock:\n",
        "                    food_item.stock = stock\n",
        "\n",
        "# Create instances of the Food class to represent each food item\n",
        "food1 = Food(\"Pizza\", \"4 pieces\", 200, 10, 10)\n",
        "food2 = Food(\"Burger\", \"1 piece\", 150, 5, 20)\n",
        "\n",
        "# Edit a food item\n",
        "Food.edit_food(1001, name=\"Veg Pizza\", quantity=\"4 slices\", price=250)\n",
        "\n",
        "# Access the updated details of a food item\n",
        "print(food1.id)  # 1001\n",
        "print(food1.name)  # Veg Pizza\n",
        "print(food1.quantity)  # 4 slices\n",
        "print(food1.price)  # 250\n",
        "print(food1.discount)  # 10\n",
        "print(food1.stock)  # 10\n"
      ],
      "metadata": {
        "colab": {
          "base_uri": "https://localhost:8080/"
        },
        "id": "AymY0ya7qNpr",
        "outputId": "bee99eec-c953-4340-9e0a-6d5ecc5d4206"
      },
      "execution_count": 13,
      "outputs": [
        {
          "output_type": "stream",
          "name": "stdout",
          "text": [
            "1001\n",
            "Veg Pizza\n",
            "4 slices\n",
            "250\n",
            "10\n",
            "10\n"
          ]
        }
      ]
    },
    {
      "cell_type": "markdown",
      "source": [
        "👉 3. View the list of all food items."
      ],
      "metadata": {
        "id": "CKpPBJhMqirF"
      }
    },
    {
      "cell_type": "code",
      "source": [
        "food_items = [    FoodItem(\"Pizza\", \"1 slice\", 10, 0, 20),    FoodItem(\"Burger\", \"1 piece\", 5, 0, 15),    FoodItem(\"French Fries\", \"200g\", 7, 0, 25)]\n",
        "\n",
        "for item in food_items:\n",
        "    print(item)\n",
        "    print(\"-\" * 20)\n"
      ],
      "metadata": {
        "colab": {
          "base_uri": "https://localhost:8080/"
        },
        "id": "BCTbKy5rqgms",
        "outputId": "a6b598ab-382a-4ed9-d9a4-034608862908"
      },
      "execution_count": 4,
      "outputs": [
        {
          "output_type": "stream",
          "name": "stdout",
          "text": [
            "Food ID: 1\n",
            "Name: Pizza\n",
            "Quantity: 1 slice\n",
            "Price: 10\n",
            "Discount: 0\n",
            "Stock: 20\n",
            "--------------------\n",
            "Food ID: 2\n",
            "Name: Burger\n",
            "Quantity: 1 piece\n",
            "Price: 5\n",
            "Discount: 0\n",
            "Stock: 15\n",
            "--------------------\n",
            "Food ID: 3\n",
            "Name: French Fries\n",
            "Quantity: 200g\n",
            "Price: 7\n",
            "Discount: 0\n",
            "Stock: 25\n",
            "--------------------\n"
          ]
        }
      ]
    },
    {
      "cell_type": "markdown",
      "source": [
        "👉 4. Remove a food item from the menu using FoodID."
      ],
      "metadata": {
        "id": "Tq_qlCkrqvKb"
      }
    },
    {
      "cell_type": "code",
      "source": [
        "food_items = [\n",
        "    FoodItem(\"Pizza\", \"1 slice\", 10, 0, 20),\n",
        "    FoodItem(\"Burger\", \"1 piece\", 5, 0, 15),\n",
        "    FoodItem(\"French Fries\", \"200g\", 7, 0, 25)\n",
        "]\n",
        "\n",
        "def remove_food_item(food_items, food_id):\n",
        "    for i, item in enumerate(food_items):\n",
        "        if item.food_id == food_id:\n",
        "            food_items.pop(i)\n",
        "            return True\n",
        "    return False\n",
        "\n",
        "remove_food_item(food_items, 2)\n",
        "\n",
        "for item in food_items:\n",
        "    print(item)\n",
        "    print(\"-\" * 20)\n"
      ],
      "metadata": {
        "colab": {
          "base_uri": "https://localhost:8080/"
        },
        "id": "7d63GLvpqsDA",
        "outputId": "2fcf4d62-e542-4852-e6ab-0c36ba264d2c"
      },
      "execution_count": 5,
      "outputs": [
        {
          "output_type": "stream",
          "name": "stdout",
          "text": [
            "Food ID: 4\n",
            "Name: Pizza\n",
            "Quantity: 1 slice\n",
            "Price: 10\n",
            "Discount: 0\n",
            "Stock: 20\n",
            "--------------------\n",
            "Food ID: 5\n",
            "Name: Burger\n",
            "Quantity: 1 piece\n",
            "Price: 5\n",
            "Discount: 0\n",
            "Stock: 15\n",
            "--------------------\n",
            "Food ID: 6\n",
            "Name: French Fries\n",
            "Quantity: 200g\n",
            "Price: 7\n",
            "Discount: 0\n",
            "Stock: 25\n",
            "--------------------\n"
          ]
        }
      ]
    },
    {
      "cell_type": "markdown",
      "source": [
        "👉 1. Register on the application. Following to be entered for registration:\n",
        "        🔴 Full Name\n",
        "        🔴 Phone Number\n",
        "        🔴 Email\n",
        "        🔴 Address\n",
        "        🔴 Password"
      ],
      "metadata": {
        "id": "cm-yPSAVq-7r"
      }
    },
    {
      "cell_type": "code",
      "source": [
        "class User:\n",
        "    user_id = 1001  # static variable to generate UserID\n",
        "    users = []  # list to store all users\n",
        "\n",
        "    def __init__(self, full_name, phone, email, address, password):\n",
        "        self.id = User.user_id\n",
        "        self.full_name = full_name\n",
        "        self.phone = phone\n",
        "        self.email = email\n",
        "        self.address = address\n",
        "        self.password = password\n",
        "        User.users.append(self)  # add the user to the list of users\n",
        "        User.user_id += 1\n",
        "\n",
        "# Create an instance of the User class to represent each user\n",
        "user1 = User(\"surya r\", \"9876543210\", \"surya.wonder15@gmail.com\", \"1 Main St, NY\", \"password123\")\n",
        "user2 = User(\"natali\", \"1234567890\", \"natalilovessurya@outlook.com\", \"2 Main St, NY\", \"password456\")\n",
        "\n",
        "# Access the details of a user\n",
        "print(user1.id)  # 1001\n",
        "print(user1.full_name)\n",
        "print(user1.phone)  # 9876543210\n",
        "print(user1.email)\n",
        "print(user1.address)  # 1 Main St, NY\n",
        "print(user1.password)  # password123\n"
      ],
      "metadata": {
        "colab": {
          "base_uri": "https://localhost:8080/"
        },
        "id": "HgTi8mMfq5GL",
        "outputId": "7901a4a7-aceb-41b8-e66f-d2158d14d86c"
      },
      "execution_count": 15,
      "outputs": [
        {
          "output_type": "stream",
          "name": "stdout",
          "text": [
            "1001\n",
            "surya r\n",
            "9876543210\n",
            "surya.wonder15@gmail.com\n",
            "1 Main St, NY\n",
            "password123\n"
          ]
        }
      ]
    },
    {
      "cell_type": "markdown",
      "source": [
        "👉 2. Log in to the application"
      ],
      "metadata": {
        "id": "_Sc7N5lNrOG2"
      }
    },
    {
      "cell_type": "code",
      "source": [
        "\n",
        "class User:\n",
        "    user_id = 1001  # static variable to generate UserID\n",
        "    users = []  # list to store all users\n",
        "\n",
        "    def __init__(self, full_name, phone, email, address, password):\n",
        "        self.id = User.user_id\n",
        "        self.full_name = full_name\n",
        "        self.phone = phone\n",
        "\n"
      ],
      "metadata": {
        "id": "VWOgQwiNrJAI"
      },
      "execution_count": 16,
      "outputs": []
    },
    {
      "cell_type": "markdown",
      "source": [
        "👉 3. The user will see 3 options:\n",
        "        🔴 Place New Order\n",
        "        🔴 Order History\n",
        "        🔴 Update Profile"
      ],
      "metadata": {
        "id": "ioZXg4u2rkzv"
      }
    },
    {
      "cell_type": "code",
      "source": [
        "class User:\n",
        "    user_id = 1001  # static variable to generate UserID\n",
        "    users = []  # list to store all users\n",
        "\n",
        "    def __init__(self, full_name, phone, email, address, password):\n",
        "        self.id = User.user_id\n",
        "        self.full_name = full_name\n",
        "        self.phone = phone\n",
        "        self.email = email\n",
        "        self.address = address\n",
        "        self.password = password\n",
        "        self.orders = []  # list to store the user's orders\n",
        "        User.users.append(self)  # add the user to the list of users\n",
        "        User.user_id += 1\n",
        "\n",
        "    def place_new_order(self, food_item, quantity):\n",
        "        \"\"\"Place a new order for a food item\"\"\"\n",
        "        order = {\"food_item\": food_item, \"quantity\": quantity}\n",
        "        self.orders.append(order)\n",
        "        print(f\"Order placed for {food_item} ({quantity})\")\n",
        "\n",
        "    def view_order_history(self):\n",
        "        \"\"\"View the history of the user's orders\"\"\"\n",
        "        print(\"Order History:\")\n",
        "        for order in self.orders:\n",
        "            print(f\"Food Item: {order['food_item']} Quantity: {order['quantity']}\")\n",
        "\n",
        "    def update_profile(self, full_name=None, phone=None, email=None, address=None, password=None):\n",
        "        \"\"\"Update the user's profile information\"\"\"\n",
        "        if full_name:\n",
        "            self.full_name = full_name\n",
        "        if phone:\n",
        "            self.phone = phone\n",
        "        if email:\n",
        "            self.email = email\n",
        "        if address:\n",
        "            self.address = address\n",
        "        if password:\n",
        "            self.password = password\n",
        "        print(\"Profile updated successfully\")\n",
        "\n",
        "# Create an instance of the User class to represent each user\n",
        "user1 = User(\"John Doe\", \"9876543210\", \"john@example.com\", \"1 Main St, NY\", \"password123\")\n",
        "\n",
        "# Log in to the application\n",
        "logged_in_user = user1\n",
        "\n",
        "# Show the options for the logged-in user\n",
        "print(\"Select an option:\")\n",
        "print(\"1. Place New Order\")\n",
        "print(\"2. Order History\")\n",
        "print(\"3. Update Profile\")\n",
        "\n",
        "# Handle the user's selection\n",
        "option = int(input(\"Enter option number: \"))\n",
        "if option == 1:\n",
        "    food_item = input(\"Enter food item: \")\n",
        "    quantity = int(input(\"Enter quantity: \"))\n",
        "    logged_in_user.place_new_order(food_item, quantity)\n",
        "elif option == 2:\n",
        "    logged_in_user.view_order_history()\n",
        "elif option == 3:\n",
        "    full_name = input(\"Enter full name (Press enter to skip): \")\n",
        "    phone = input(\"Enter phone (Press enter to skip): \")\n",
        "    email = input(\"Enter email (Press enter to skip): \")\n",
        "    address = input(\"Enter address (Press enter to skip): \")\n",
        "    password = input(\"Enter password (Press enter to skip): \")\n",
        "    logged_in_user.update_profile(full_name, phone, email, address, password)\n",
        "else:\n",
        "    print(\"Invalid\")\n"
      ],
      "metadata": {
        "colab": {
          "base_uri": "https://localhost:8080/"
        },
        "id": "mMtgRafDrcUz",
        "outputId": "785b2d5f-78d7-4c9b-e015-131e65c67479"
      },
      "execution_count": 17,
      "outputs": [
        {
          "output_type": "stream",
          "name": "stdout",
          "text": [
            "Select an option:\n",
            "1. Place New Order\n",
            "2. Order History\n",
            "3. Update Profile\n",
            "Enter option number: 1\n",
            "Enter food item: Pizza\n",
            "Enter quantity: 4\n",
            "Order placed for Pizza (4)\n"
          ]
        }
      ]
    },
    {
      "cell_type": "markdown",
      "source": [
        "👉 4. Place New Order: The user can place a new order at the restaurant.\n",
        "        🔵 Show list of food. The list item should as follows:\n",
        "            🔴 Tandoori Chicken (4 pieces) [INR 240]\n",
        "            🔴 Vegan Burger (1 Piece) [INR 320]\n",
        "            🔴 Truffle Cake (500gm) [INR 900]"
      ],
      "metadata": {
        "id": "dkNUdlH_ry5P"
      }
    },
    {
      "cell_type": "code",
      "source": [
        "class Food:\n",
        "    def __init__(self, food_id, name, quantity, price, discount, stock):\n",
        "        self.food_id = food_id\n",
        "        self.name = name\n",
        "        self.quantity = quantity\n",
        "        self.price = price\n",
        "        self.discount = discount\n",
        "        self.stock = stock\n",
        "\n",
        "    def __str__(self):\n",
        "        return \"{} ({}) [INR {}]\".format(self.name, self.quantity, self.price)\n",
        "\n",
        "class Order:\n",
        "    def __init__(self, food, quantity):\n",
        "        self.food = food\n",
        "        self.quantity = quantity\n",
        "\n",
        "    def __str__(self):\n",
        "        return \"{} x {}\".format(self.food.name, self.quantity)\n",
        "\n",
        "class User:\n",
        "    def __init__(self, name, phone, email, address, password):\n",
        "        self.name = name\n",
        "        self.phone = phone\n",
        "        self.email = email\n",
        "        self.address = address\n",
        "        self.password = password\n",
        "\n",
        "class Restaurant:\n",
        "    def __init__(self):\n",
        "        self.foods = []\n",
        "        self.orders = []\n",
        "        self.users = []\n",
        "\n",
        "    def add_food(self, food):\n",
        "        self.foods.append(food)\n",
        "\n",
        "    def view_foods(self):\n",
        "        for food in self.foods:\n",
        "            print(food)\n",
        "\n",
        "    def place_order(self, user, order):\n",
        "        self.orders.append((user, order))\n",
        "        self.foods[order.food].stock -= order.quantity\n",
        "\n",
        "# Example usage\n",
        "restaurant = Restaurant()\n",
        "food1 = Food(1, \"Tandoori Chicken\", \"4 pieces\", 240, 0, 10)\n",
        "food2 = Food(2, \"Vegan Burger\", \"1 Piece\", 320, 0, 5)\n",
        "food3 = Food(3, \"Truffle Cake\", \"500gm\", 900, 0, 3)\n",
        "restaurant.add_food(food1)\n",
        "restaurant.add_food(food2)\n",
        "restaurant.add_food(food3)\n",
        "restaurant.view_foods()\n",
        "# Output:\n",
        "# Tandoori Chicken (4 pieces) [INR 240]\n",
        "# Vegan Burger (1 Piece) [INR 320]\n",
        "# Truffle Cake (500gm) [INR 900]\n",
        "\n",
        "user = User(\"John Doe\", \"+91 1234567890\", \"johndoe@example.com\", \"123 Main St\", \"password123\")\n",
        "order = Order(0, 2)\n",
        "restaurant.place_order(user, order)\n"
      ],
      "metadata": {
        "colab": {
          "base_uri": "https://localhost:8080/"
        },
        "id": "4V0ZyY2Qrsrn",
        "outputId": "863462d7-06f8-4449-8339-afb7f854c281"
      },
      "execution_count": 18,
      "outputs": [
        {
          "output_type": "stream",
          "name": "stdout",
          "text": [
            "Tandoori Chicken (4 pieces) [INR 240]\n",
            "Vegan Burger (1 Piece) [INR 320]\n",
            "Truffle Cake (500gm) [INR 900]\n"
          ]
        }
      ]
    },
    {
      "cell_type": "markdown",
      "source": [
        "5. Users should be able to select food by entering an array of numbers. For example, if the user wants to order Vegan Burger and Truffle Cake they should enter [2, 3]"
      ],
      "metadata": {
        "id": "4qq4xgRHvI9v"
      }
    },
    {
      "cell_type": "code",
      "source": [
        "def place_new_order(food_items):\n",
        "    food_item_ids = [int(x) for x in input(\"Enter a list of Food IDs (e.g. 2 3): \").split()]\n",
        "    order = Order([food_items[food_item_id - 1] for food_item_id in food_item_ids])\n",
        "    return order\n",
        "\n",
        "order = place_new_order(food_items)\n",
        "print(\"Order:\", order.food_items)\n"
      ],
      "metadata": {
        "id": "Ahm6vqQSvHN-"
      },
      "execution_count": null,
      "outputs": []
    },
    {
      "cell_type": "markdown",
      "source": [
        "👉 6. Once the items are selected user should see the list of all the items selected. The user will also get an option to place an order.\n"
      ],
      "metadata": {
        "id": "MBltO19YvNhj"
      }
    },
    {
      "cell_type": "code",
      "source": [
        "def place_new_order(food_items):\n",
        "    food_item_ids = [int(x) for x in input(\"Enter a list of Food IDs (e.g. 2 3): \").split()]\n",
        "    selected_food_items = [food_items[food_item_id - 1] for food_item_id in food_item_ids]\n",
        "    print(\"Selected Food Items:\")\n",
        "    for i, food_item in enumerate(selected_food_items):\n",
        "        print(f\"{i + 1}. {food_item.name} ({food_item.quantity}) [INR {food_item.price}]\")\n",
        "\n",
        "    confirm_order = input(\"Place order? (y/n): \")\n",
        "    if confirm_order.lower() == \"y\":\n",
        "        order = Order(selected_food_items)\n",
        "        return order\n",
        "    else:\n",
        "        return None\n",
        "\n",
        "order = place_new_order(food_items)\n",
        "if order is not None:\n",
        "    print(\"Order placed:\", order.food_items)\n",
        "else:\n",
        "    print(\"Order cancelled.\")\n"
      ],
      "metadata": {
        "id": "w7EMbKq4vnYo"
      },
      "execution_count": null,
      "outputs": []
    },
    {
      "cell_type": "markdown",
      "source": [
        "👉 7. Order History should show a list of all the previous orders"
      ],
      "metadata": {
        "id": "tf9bEikbvtjj"
      }
    },
    {
      "cell_type": "code",
      "source": [
        "class User:\n",
        "    def __init__(self, name, phone_number, email, address, password):\n",
        "        self.name = name\n",
        "        self.phone_number = phone_number\n",
        "        self.email = email\n",
        "        self.address = address\n",
        "        self.password = password\n",
        "        self.orders = []\n",
        "\n",
        "    def place_order(self, order):\n",
        "        self.orders.append(order)\n",
        "\n",
        "    def view_order_history(self):\n",
        "        print(\"Order History:\")\n",
        "        for i, order in enumerate(self.orders):\n",
        "            print(f\"Order {i + 1}: {order.food_items}\")\n",
        "\n",
        "user = User(\"John Doe\", \"1234567890\", \"johndoe@example.com\", \"1 Main Street\", \"password\")\n",
        "order = Order([food_items[0], food_items[2]])\n",
        "user.place_order(order)\n",
        "user.view_order_history()\n"
      ],
      "metadata": {
        "id": "D4RLhcd2v64W"
      },
      "execution_count": null,
      "outputs": []
    },
    {
      "cell_type": "markdown",
      "source": [
        "👉 8. Update Profile: the user should be able to update their profile."
      ],
      "metadata": {
        "id": "Hv4EZ1Pav_OJ"
      }
    },
    {
      "cell_type": "code",
      "source": [
        "class User:\n",
        "    def __init__(self, name, phone_number, email, address, password):\n",
        "        self.name = name\n",
        "        self.phone_number = phone_number\n",
        "        self.email = email\n",
        "        self.address = address\n",
        "        self.password = password\n",
        "        self.orders = []\n",
        "\n",
        "    def place_order(self, order):\n",
        "        self.orders.append(order)\n",
        "\n",
        "    def view_order_history(self):\n",
        "        print(\"Order History:\")\n",
        "        for i, order in enumerate(self.orders):\n",
        "            print(f\"Order {i + 1}: {order.food_items}\")\n",
        "\n",
        "    def update_profile(self, name=None, phone_number=None, email=None, address=None, password=None):\n",
        "        if name:\n",
        "            self.name = name\n",
        "        if phone_number:\n",
        "            self.phone_number = phone_number\n",
        "        if email:\n",
        "            self.email = email\n",
        "        if address:\n",
        "            self.address = address\n",
        "        if password:\n",
        "            self.password = password\n",
        "\n",
        "user = User(\"John Doe\", \"1234567890\", \"johndoe@example.com\", \"1 Main Street\", \"password\")\n",
        "user.update_profile(name=\"Jane Doe\", phone_number=\"0987654321\")\n",
        "print(user.name)\n",
        "print(user.phone_number)\n"
      ],
      "metadata": {
        "id": "3NijxthjwB41"
      },
      "execution_count": null,
      "outputs": []
    }
  ]
}